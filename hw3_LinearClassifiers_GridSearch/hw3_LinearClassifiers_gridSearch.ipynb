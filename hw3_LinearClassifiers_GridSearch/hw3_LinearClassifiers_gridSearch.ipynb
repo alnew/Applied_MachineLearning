{
 "cells": [
  {
   "cell_type": "markdown",
   "metadata": {},
   "source": [
    "# SI 670 Assignment 3 - Linear classifiers, evaluation methods, and grid search (75 points total)"
   ]
  },
  {
   "cell_type": "markdown",
   "metadata": {},
   "source": [
    "In this assignment you will train several linear classifier models and evaluate how effectively they predict instances of fraud using data based on [this dataset from Kaggle](https://www.kaggle.com/dalpozz/creditcardfraud). Then you'll perform a grid search to find optimal parameters. \n",
    " \n",
    "Each row in `fraud_data.csv` corresponds to a credit card transaction. Features include confidential variables `V1` through `V28` as well as `Amount` which is the amount of the transaction. \n",
    " \n",
    "The target is stored in the `class` column, where a value of 1 corresponds to an instance of fraud and 0 corresponds to an instance of not fraud."
   ]
  },
  {
   "cell_type": "code",
   "execution_count": 3,
   "metadata": {},
   "outputs": [],
   "source": [
    "import numpy as np\n",
    "import pandas as pd"
   ]
  },
  {
   "cell_type": "markdown",
   "metadata": {},
   "source": [
    "### Question 1 (5 points)\n",
    "Import the data from `fraud_data.csv`. What percentage of the observations in the dataset are instances of fraud?\n",
    "\n",
    "*This function should return a float between 0 and 1.* "
   ]
  },
  {
   "cell_type": "code",
   "execution_count": 4,
   "metadata": {},
   "outputs": [
    {
     "data": {
      "text/plain": [
       "0.016410823768035772"
      ]
     },
     "execution_count": 4,
     "metadata": {},
     "output_type": "execute_result"
    }
   ],
   "source": [
    "def answer_one():\n",
    "    # YOUR CODE HERE\n",
    "    fraud = pd.read_csv('fraud_data.csv')\n",
    "    class_counts = pd.DataFrame(fraud['Class'].value_counts())\n",
    "    total_class = len(fraud['Class'])\n",
    "    m = class_counts.iloc[1]['Class']\n",
    "    return m/total_class\n",
    "\n",
    "answer_one()"
   ]
  },
  {
   "cell_type": "code",
   "execution_count": 5,
   "metadata": {},
   "outputs": [],
   "source": [
    "# Use X_train, X_test, y_train, y_test for all of the following questions\n",
    "from sklearn.model_selection import train_test_split\n",
    "\n",
    "df = pd.read_csv('fraud_data.csv')\n",
    "\n",
    "X = df.iloc[:,:-1]\n",
    "y = df.iloc[:,-1]\n",
    "\n",
    "X_train, X_test, y_train, y_test = train_test_split(X, y, random_state=0)"
   ]
  },
  {
   "cell_type": "markdown",
   "metadata": {},
   "source": [
    "### Question 2 (10 points)\n",
    "\n",
    "Using `X_train`, `X_test`, `y_train`, and `y_test` (as defined above), train a dummy classifier that classifies everything as the majority class of the training data. What is the accuracy of this classifier? What is the recall?\n",
    "\n",
    "*This function should a return a tuple with two floats, i.e. `(accuracy score, recall score)`.*"
   ]
  },
  {
   "cell_type": "code",
   "execution_count": 6,
   "metadata": {},
   "outputs": [
    {
     "data": {
      "text/plain": [
       "(0.9852507374631269, 0.0)"
      ]
     },
     "execution_count": 6,
     "metadata": {},
     "output_type": "execute_result"
    }
   ],
   "source": [
    "#--The dummy classifier is the sanity check to compare your data against (compare accuracy and recall scores)\n",
    "#--dummy classifiers look at the labes of the training data\n",
    "\n",
    "def answer_two():\n",
    "    # YOUR CODE HERE\n",
    "    from sklearn.metrics import accuracy_score, precision_score, recall_score, f1_score\n",
    "    from sklearn.dummy import DummyClassifier\n",
    "    \n",
    "    # train a dummy classifier - trains majority class of training data\n",
    "    dummy_majority = DummyClassifier(strategy = 'most_frequent').fit(X_train, y_train)\n",
    "    y_dummy_predictions = dummy_majority.predict(X_test)\n",
    "    y_dummy_predictions\n",
    "    \n",
    "    # show accuracy of the classifier\n",
    "    accuracy_score = accuracy_score(y_test, y_dummy_predictions)\n",
    "    \n",
    "    # show recall of the classifier\n",
    "    recall_score = recall_score(y_test, y_dummy_predictions)\n",
    "    \n",
    "    return (accuracy_score, recall_score)\n",
    "\n",
    "answer_two()\n",
    "\n",
    "# 98.5% of the transactions were noted as not being fraud. Since not fraud was assigned the majority label, we assigned everything \n",
    "# not fraud, meaning we did not detect the class we were looking for - fraud"
   ]
  },
  {
   "cell_type": "markdown",
   "metadata": {},
   "source": [
    "### Question 3 (10 points)\n",
    "\n",
    "Using X_train, X_test, y_train, y_test (as defined above), train a linear support vector classifier using the default parameters. What is the accuracy, recall, and precision of this classifier?\n",
    "\n",
    "*This function should a return a tuple with three floats, i.e. `(accuracy score, recall score, precision score)`.*"
   ]
  },
  {
   "cell_type": "code",
   "execution_count": 7,
   "metadata": {},
   "outputs": [
    {
     "data": {
      "text/plain": [
       "(0.9961283185840708, 0.7625, 0.9682539682539683)"
      ]
     },
     "execution_count": 7,
     "metadata": {},
     "output_type": "execute_result"
    }
   ],
   "source": [
    "#--SVM pros - faster prediction compared to Naive Bayes and use less memory b/c they use a subset of training points in the decision phase\n",
    "#--SVM cons - not as suitable for large datasets b/c of the high training time, especially compared to Niave Bayes, also not good w/ overlapping classes\n",
    "\n",
    "def answer_three():\n",
    "    # YOUR CODE HERE\n",
    "#     from sklearn.metrics import accuracy_score, precision_score, recall_score, f1_score\n",
    "    from sklearn import metrics\n",
    "    from sklearn import svm\n",
    "\n",
    "    \n",
    "    #--Create svm classifier and train with training data--\n",
    "    clf = svm.SVC(kernel='linear').fit(X_train, y_train)\n",
    "    \n",
    "    #--Predict response of test data--\n",
    "    y_pred = clf.predict(X_test)\n",
    "#     print(y_pred)\n",
    "\n",
    "\n",
    "    #--Calculate score values--\n",
    "    accuracy = metrics.accuracy_score(y_test, y_pred)\n",
    "    \n",
    "    recall = metrics.recall_score(y_test, y_pred)\n",
    "    \n",
    "    precision = metrics.precision_score(y_test, y_pred)\n",
    "\n",
    "    return (accuracy, recall, precision)\n",
    "    \n",
    "\n",
    "answer_three()"
   ]
  },
  {
   "cell_type": "markdown",
   "metadata": {},
   "source": [
    "### Question 4 (10 points)\n",
    "\n",
    "Using the non-linear support vector classifier with parameters `{'C': 1e9, 'gamma': 2e-07}`, what is the confusion matrix when using a threshold of -230 on the decision function? Use X_test and y_test. Use the SVC classifier with default RBF kernel (not linear kernel)\n",
    "\n",
    "*This function should return a confusion matrix, a 2x2 numpy array with 4 integers.*"
   ]
  },
  {
   "cell_type": "code",
   "execution_count": 36,
   "metadata": {},
   "outputs": [
    {
     "data": {
      "text/plain": [
       "array([[5310,   34],\n",
       "       [  14,   66]])"
      ]
     },
     "execution_count": 36,
     "metadata": {},
     "output_type": "execute_result"
    }
   ],
   "source": [
    "#--nonlinear kernel will take longer to train and test than a linear kernel\n",
    "#--C parameter decided margin of width of the SVM classifier: large C=strict classifier, small C=misclassified examples\n",
    "\n",
    "def answer_four():\n",
    "    \n",
    "    from sklearn.metrics import confusion_matrix\n",
    "    import numpy as np\n",
    "    import pandas as pd\n",
    "    from sklearn import metrics\n",
    "    from sklearn import svm\n",
    "    \n",
    "    #--Create Support Vector Classifier--\n",
    "    clf = svm.SVC(C=1e9, kernel='rbf', gamma=2e-07).fit(X_train, y_train)\n",
    "    y_score = clf.decision_function(X_test) #this is a list\n",
    "    y_svm_predict = y_score > -230 # True=1, False=0 <---this changes the decision function cutoff\n",
    "    \n",
    "    #--Create Consufion Matrix--\n",
    "    confusion = confusion_matrix(y_test, y_svm_predict)\n",
    "    return confusion\n",
    "    \n",
    "answer_four()"
   ]
  },
  {
   "cell_type": "markdown",
   "metadata": {},
   "source": [
    "### Question 5 (20 points)\n",
    "\n",
    "Train a logistic regression classifier with default parameters using X_train and y_train.\n",
    "\n",
    "For the logistic regression classifier, create (1) a precision-recall curve and (2) a roc curve using y_test and the probability estimates for X_test (probability it is fraud).\n",
    "\n",
    "Looking at the precision recall curve, what is the recall when the precision is `0.75`?\n",
    "\n",
    "Looking at the ROC curve, what is the true positive rate when the false positive rate is `0.16`?\n",
    "\n",
    "*This function should return a tuple with two floats, i.e. `(recall, true positive rate)`.*\n",
    "*You should also includce code to generate the precision/recall and ROC curves above*"
   ]
  },
  {
   "cell_type": "code",
   "execution_count": 65,
   "metadata": {},
   "outputs": [
    {
     "name": "stderr",
     "output_type": "stream",
     "text": [
      "/anaconda3/lib/python3.6/site-packages/matplotlib/figure.py:98: MatplotlibDeprecationWarning: \n",
      "Adding an axes using the same arguments as a previous axes currently reuses the earlier instance.  In a future version, a new instance will always be created and returned.  Meanwhile, this warning can be suppressed, and the future behavior ensured, by passing a unique label to each axes instance.\n",
      "  \"Adding an axes using the same arguments as a previous axes \"\n"
     ]
    },
    {
     "data": {
      "image/png": "[encoded data removed]",
      "text/plain": [
       "<Figure size 432x288 with 1 Axes>"
      ]
     },
     "metadata": {},
     "output_type": "display_data"
    },
    {
     "data": {
      "image/png": "[encoded data removed]",
      "text/plain": [
       "<Figure size 432x288 with 1 Axes>"
      ]
     },
     "metadata": {},
     "output_type": "display_data"
    },
    {
     "data": {
      "text/plain": [
       "(0.825, 0.9375)"
      ]
     },
     "execution_count": 65,
     "metadata": {},
     "output_type": "execute_result"
    }
   ],
   "source": [
    "# add code here to train the classifier and plot the P/R and ROC curves\n",
    "def answer_five():\n",
    "    \n",
    "\n",
    "    import numpy as np\n",
    "    import matplotlib.pyplot as plt\n",
    "    from sklearn.utils.fixes import signature\n",
    "    from sklearn.metrics import average_precision_score\n",
    "    from sklearn.linear_model import LogisticRegression\n",
    "    from sklearn.metrics import precision_recall_curve, roc_curve, roc_auc_score\n",
    "\n",
    "    #--1. Train Logistic Regression Classifier--\n",
    "    lreg = LogisticRegression()\n",
    "    lreg.fit(X_train, y_train)\n",
    "\n",
    "    # y_pred = lreg.predict(X_test) #this gives 1's and 0's, so don't want this\n",
    "    y_score = clf.decision_function(X_test) #sklearn will show how precision and recall change as the threshold moves\n",
    "\n",
    "    #--2. Create a precision-recall curve\n",
    "    from sklearn.metrics import precision_recall_curve\n",
    "\n",
    "    precision, recall, thresholds = precision_recall_curve(y_test, y_score)\n",
    "    closest_zero = np.argmin(np.abs(thresholds))\n",
    "    closest_zero_p = precision[closest_zero]\n",
    "    closest_zero_r = recall[closest_zero]\n",
    "\n",
    "    plt.figure()\n",
    "    plt.xlim([0.0, 1.01])\n",
    "    plt.ylim([0.0, 1.01])\n",
    "    plt.plot(precision, recall, label='Precision-Recall Curve')\n",
    "    plt.plot(closest_zero_p, closest_zero_r, 'o', markersize = 12, fillstyle = 'none', c='r', mew=3)\n",
    "    plt.xlabel('Precision', fontsize=16)\n",
    "    plt.ylabel('Recall', fontsize=16)\n",
    "    plt.axes().set_aspect('equal')\n",
    "    plt.show()\n",
    "\n",
    "\n",
    "\n",
    "\n",
    "    #--3. Create a ROC curve using y_test and the proba estimates for X_test(or, the probability it is fraud)\n",
    "    plt.figure()\n",
    "    y_pred_prob = lreg.predict_proba(X_test)[::,1]\n",
    "    fpr, tpr, _ = roc_curve(y_test, y_pred_prob) \n",
    "    auc = roc_auc_score(y_test, y_pred_prob)\n",
    "    plt.plot(fpr,tpr,label=\"data 1, auc=\"+str(auc))\n",
    "    plt.legend(loc=4)\n",
    "    plt.show()\n",
    "\n",
    "    #--Determine recall value when precision == 0.75--\n",
    "    recall_index = precision.tolist().index(0.75)\n",
    "    recall_val = recall[recall_index]\n",
    "    # can also use np.where(np.round(precision,2)==0.75) <-- this will return a numpy array\n",
    "    # var_name, <---same as doing a reshape\n",
    "\n",
    "    #--Determine true positive value when false positive rate == 0.16\n",
    "    tp_index = fpr.round(2).tolist().index(0.16)\n",
    "    tp_val = tpr[tp_index]\n",
    "\n",
    "\n",
    "    return (recall_val, tp_val)\n",
    "\n",
    "\n",
    "\n",
    "answer_five()"
   ]
  },
  {
   "cell_type": "markdown",
   "metadata": {},
   "source": [
    "### Question 6 (20 points)\n",
    "\n",
    "(a) (13 points) Perform a grid search over the parameters listed below for a Logistic Regression classifier, using recall for scoring and the default 3-fold cross validation.\n",
    "\n",
    "`'penalty': ['l1', 'l2']`\n",
    "\n",
    "`'C' : [0.01, 0.1, 0.5, 1, 10, 100]`\n",
    "\n",
    "From `.cv_results_`, create an array of the mean test scores of each parameter combination. i.e.\n",
    "\n",
    "|      \t| `l1` \t| `l2` \t|\n",
    "|:----:\t|----\t|----\t|\n",
    "| **`0.01`** \t|    ?\t|   ? \t|\n",
    "| **`0.1`**  \t|    ?\t|   ? \t|\n",
    "| **`0.5`**  \t|    ?\t|   ? \t|\n",
    "| **`1`**    \t|    ?\t|   ? \t|\n",
    "| **`10`**   \t|    ?\t|   ? \t|\n",
    "| **`100`**  \t|    ?\t|   ? \t|\n",
    "\n",
    "<br>\n",
    "\n",
    "*This function should return a 6 by 2 numpy array with 8 floats.* \n",
    "\n",
    "*Note: do not return a DataFrame, just the values denoted by `?` in a numpy array.*"
   ]
  },
  {
   "cell_type": "code",
   "execution_count": 64,
   "metadata": {},
   "outputs": [
    {
     "data": {
      "text/plain": [
       "array([[0.99422214, 0.99539001],\n",
       "       [0.99606614, 0.99618907],\n",
       "       [0.99600467, 0.99618907],\n",
       "       [0.99606614, 0.9961276 ],\n",
       "       [0.99588174, 0.9959432 ],\n",
       "       [0.99588174, 0.99588174]])"
      ]
     },
     "execution_count": 64,
     "metadata": {},
     "output_type": "execute_result"
    }
   ],
   "source": [
    "def answer_six():    \n",
    "    # YOUR CODE HERE\n",
    "    #Source: https://chrisalbon.com/machine_learning/model_selection/hyperparameter_tuning_using_grid_search/\n",
    "    import numpy as np\n",
    "    import matplotlib.pyplot as plt\n",
    "    from sklearn.utils.fixes import signature\n",
    "    from sklearn.metrics import average_precision_score\n",
    "    from sklearn.linear_model import LogisticRegression\n",
    "    from sklearn.metrics import precision_recall_curve, roc_curve, roc_auc_score\n",
    "    from sklearn import linear_model, datasets\n",
    "    from sklearn.model_selection import GridSearchCV\n",
    "\n",
    "    #--1. Train Logistic Regression Classifier--\n",
    "    lreg = LogisticRegression()\n",
    "\n",
    "    #-- Penalty values --\n",
    "    penalty = ['l1', 'l2'] #trying to minimize penalties: L1=taxi cab, L2=as the crow flys\n",
    "\n",
    "    #-- Regularization hyperparameter --\n",
    "    C = [0.01, 0.1, 0.5, 1, 10, 100]\n",
    "\n",
    "    #-- Create hyperparameters dict --\n",
    "    hyperparams = dict(C=C, penalty=penalty)\n",
    "\n",
    "    #-- Perform Grid Search using 3-fold cross validation --\n",
    "    model = GridSearchCV(lreg, hyperparams, cv=3, verbose=0)\n",
    "    model.fit(X_train,y_train) #this trains the model for ea possible combo of L1 and L2 for penalty, and all of those for C\n",
    "    #cv=3 means it does it 3 different times on 3 random splits of X_train and y_train\n",
    "    y_pred = model.predict(X_test) #fit finds best combo of parameters, predict will use the best combo of parameters to give the best prediction\n",
    "\n",
    "    \n",
    "    scores = model.cv_results_['mean_test_score'].reshape((6,2))\n",
    "    \n",
    "    return scores\n",
    "\n",
    "    \n",
    "\n",
    "answer_six()"
   ]
  },
  {
   "cell_type": "markdown",
   "metadata": {},
   "source": [
    "(b) (2 points) *What is the optimal combination of penalty setting and C value?*  (You can use the following helper function to visualize the results from your grid search.)"
   ]
  },
  {
   "cell_type": "code",
   "execution_count": 66,
   "metadata": {
    "scrolled": true
   },
   "outputs": [
    {
     "data": {
      "image/png": "[encoded data removed]",
      "text/plain": [
       "<Figure size 432x288 with 2 Axes>"
      ]
     },
     "metadata": {},
     "output_type": "display_data"
    }
   ],
   "source": [
    "# Use the following function to help visualize results from the grid search\n",
    "def GridSearch_Heatmap(scores):\n",
    "    %matplotlib inline\n",
    "    import seaborn as sns\n",
    "    import matplotlib.pyplot as plt\n",
    "    plt.figure()\n",
    "    sns.heatmap(scores.reshape(6,2), xticklabels=['l1','l2'], yticklabels=[0.01, 0.1, 0.5, 1, 10, 100])\n",
    "    plt.yticks(rotation=0);\n",
    "\n",
    "GridSearch_Heatmap(answer_six())"
   ]
  },
  {
   "cell_type": "markdown",
   "metadata": {},
   "source": [
    "**L2 penalty where C=0.1 or C=0.5 looks to be like the optimal combination. **"
   ]
  },
  {
   "cell_type": "markdown",
   "metadata": {},
   "source": [
    "(c) (5 points) Your fraud data was provided by a client who represents a large banking company. What is your final recommendation for the type of classifier and settings they should use to detect fraud in their system -- and why?"
   ]
  },
  {
   "cell_type": "markdown",
   "metadata": {},
   "source": [
    "Since the client is a large banking company, my recommendation would be to find a classifier that has the highest recall value to ensure that the false positive values are as low as possible - in these cases you would probably want to reduce the amount of times you reach out to customers when there really isn't any fraud (false positive). In the cases above, it seems that the Logistic Regression classifier performed the best with a high recall value. Specifically, it performed well with the L2 penalty where C was between 0.1 and 0.5, giving 99.6%."
   ]
  },
  {
   "cell_type": "code",
   "execution_count": null,
   "metadata": {},
   "outputs": [],
   "source": [
    "# -- Look at the running time - or the computational cost. Also look at the standard deviation - where the parameters are more stable\n",
    "# -- Look at standard deviation will help determine how stable the calculations are"
   ]
  }
 ],
 "metadata": {
  "kernelspec": {
   "display_name": "Python 3",
   "language": "python",
   "name": "python3"
  },
  "language_info": {
   "codemirror_mode": {
    "name": "ipython",
    "version": 3
   },
   "file_extension": ".py",
   "mimetype": "text/x-python",
   "name": "python",
   "nbconvert_exporter": "python",
   "pygments_lexer": "ipython3",
   "version": "3.6.7"
  }
 },
 "nbformat": 4,
 "nbformat_minor": 4
}
